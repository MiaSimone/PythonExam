{
 "cells": [
  {
   "cell_type": "code",
   "execution_count": 1,
   "metadata": {},
   "outputs": [],
   "source": [
    "import os\n",
    "import pathlib\n",
    "import bs4\n",
    "import requests\n",
    "import PIL\n",
    "from PIL import Image"
   ]
  },
  {
   "cell_type": "markdown",
   "metadata": {},
   "source": [
    "#### insert_data() er en metode til at indsætte hver url i datasættet. For hver url bliver det sat ind under den mappe som label er. "
   ]
  },
  {
   "cell_type": "code",
   "execution_count": 2,
   "metadata": {},
   "outputs": [],
   "source": [
    "def insert_data(label, number, url):\n",
    "    response = requests.get(url)\n",
    "  \n",
    "    # Parent Directory path\n",
    "    parent_dir = \"/home/jovyan/Exam_Project/Dataset\"\n",
    "    \n",
    "    path = os.path.join(parent_dir, label)\n",
    "    \n",
    "    \n",
    "  # Creating the directory based on the label:\n",
    "    file = pathlib.Path(path)\n",
    "    if file.exists ():\n",
    "        print(\"The directory exists: \" + str(path))\n",
    "    else:\n",
    "        os.mkdir(path)\n",
    "        \n",
    "    file = open(path+\"/\"+str(number)+\".png\", \"wb\")\n",
    "    file.write(response.content)\n",
    "    file.close()\n"
   ]
  },
  {
   "cell_type": "markdown",
   "metadata": {},
   "source": [
    "#### resize_images() resizer alle billeder under hver label til at være 100x100 pixels"
   ]
  },
  {
   "cell_type": "code",
   "execution_count": 3,
   "metadata": {},
   "outputs": [],
   "source": [
    "def resize_images(label):\n",
    "    print(\"Resizing images in \" + label + \" folder.\")\n",
    "    f = r'/home/jovyan/Exam_Project/Dataset/'+label\n",
    "    for file in os.listdir(f):\n",
    "        f_img = f+\"/\"+file\n",
    "        img = Image.open(f_img)\n",
    "        img = img.resize((100,100))\n",
    "        img.save(f_img)\n"
   ]
  },
  {
   "cell_type": "markdown",
   "metadata": {},
   "source": [
    "#### create_dataset() kalder de to ovenstående metoder og får sat billederne fra urllerne i dictionary ind i datasættet"
   ]
  },
  {
   "cell_type": "code",
   "execution_count": null,
   "metadata": {},
   "outputs": [],
   "source": [
    "def create_dataset():\n",
    "    \n",
    "    full_url_dict = {}\n",
    "    \n",
    "    full_url_dict[\"Banan\"] = \"https://www.google.com/search?q=banan&tbm=isch&ved=2ahUKEwj7-pvw2sPwAhXGySoKHbKZDsoQ2-cCegQIABAA&oq=banan&gs_lcp=CgNpbWcQAzIECCMQJzIECCMQJzIFCAAQsQMyAggAMgIIADICCAAyAggAMgIIADICCAAyAggAOgQIABBDOgcIABCxAxBDUNR-WMiBAWDagwFoAHAAeACAAaQBiAH_BJIBAzAuNZgBAKABAaoBC2d3cy13aXotaW1nwAEB&sclient=img&ei=vY-bYLuoBcaTqwGys7rQDA&bih=642&biw=1422&safe=off&hl=da\"\n",
    "    full_url_dict[\"Æble\"] = \"https://www.google.com/search?q=%C3%A6ble&safe=off&hl=da&sxsrf=ALeKk01rul_oObd0LP6-d3_Pikb2jbJAsQ:1620807611582&source=lnms&tbm=isch&sa=X&ved=2ahUKEwidvb_v2sPwAhXFpYsKHT--Ai4Q_AUoAXoECAEQAw&biw=1422&bih=642\"\n",
    "    full_url_dict[\"Appelsin\"] = \"https://www.google.com/search?q=appelsin&tbm=isch&ved=2ahUKEwiSgtP42sPwAhURuCoKHSZUAKYQ2-cCegQIABAA&oq=appelsin&gs_lcp=CgNpbWcQAzICCAAyAggAMgIIADICCAAyAggAMgIIADICCAAyAggAMgIIADICCAA6BAgjECc6BAgAEEM6BwgAELEDEEM6BQgAELEDUL7CAVjvyAFggssBaABwAHgAgAGHAYgB3AeSAQMwLjiYAQCgAQGqAQtnd3Mtd2l6LWltZ8ABAQ&sclient=img&ei=zo-bYJLjLpHwqgGmqIGwCg&bih=642&biw=1422&safe=off&hl=da\"\n",
    "    full_url_dict[\"Pære\"] = \"https://www.google.com/search?q=p%C3%A6re&tbm=isch&hl=da&safe=off&chips=q:p%C3%A6re,online_chips:frugt:5KT6Pd18OxY%3D&sa=X&ved=2ahUKEwjoq5iM28PwAhXs_CoKHUAsBBcQ4lYoAHoECAEQGg&biw=1404&bih=642\"\n",
    "    full_url_dict[\"Kiwi\"] = \"https://www.google.com/search?q=kiwi&tbm=isch&hl=da&safe=off&chips=q:kiwi,online_chips:fruit:uqEC2fb1yHw%3D&sa=X&ved=2ahUKEwibkbeU28PwAhULyCoKHUPVCEAQ4lYoAXoECAEQHA&biw=1404&bih=642\"\n",
    "    full_url_dict[\"Citron\"] = \"https://www.google.com/search?q=citron&tbm=isch&ved=2ahUKEwjg1e-d28PwAhVEtSoKHRbHCc8Q2-cCegQIABAA&oq=citron&gs_lcp=CgNpbWcQAzIHCAAQsQMQQzICCAAyAggAMgIIADICCAAyAggAMgIIADIECAAQQzICCAAyAggAOgQIIxAnOgUIABCxA1DNWViJa2CDbWgDcAB4AIABiwGIAcEGkgEDMS42mAEAoAEBqgELZ3dzLXdpei1pbWfAAQE&sclient=img&ei=HJCbYODXMsTqqgGWjqf4DA&bih=642&biw=1404&safe=off&hl=da\"\n",
    "    full_url_dict[\"Vandmelon\"] = \"https://www.google.com/search?q=vandmelon&tbm=isch&ved=2ahUKEwjewo2l28PwAhVOzyoKHSx8AU4Q2-cCegQIABAA&oq=vandmelon&gs_lcp=CgNpbWcQAzICCAAyAggAMgIIADICCAAyAggAMgIIADICCAAyAggAMgIIADICCAA6BAgjECc6BQgAELEDOgQIABBDOggIABCxAxCDAVD3TViOVmDzV2gAcAB4AIABlAGIAbgIkgEDMS44mAEAoAEBqgELZ3dzLXdpei1pbWfAAQE&sclient=img&ei=K5CbYJ6BPc6eqwGs-IXwBA&bih=642&biw=1404&safe=off&hl=da\"\n",
    "    full_url_dict[\"Ananas\"] = \"https://www.google.com/search?q=ananas&tbm=isch&ved=2ahUKEwiKx4Sr28PwAhXCpYsKHZO5BQUQ2-cCegQIABAA&oq=ananas&gs_lcp=CgNpbWcQAzIFCAAQsQMyAggAMgIIADICCAAyAggAMgIIADICCAAyAggAMgIIADICCAA6BAgjECc6BAgAEEM6BwgAELEDEEM6CAgAELEDEIMBUMN7WL6BAWC3ggFoAHAAeACAAYgBiAGhBJIBAzIuM5gBAKABAaoBC2d3cy13aXotaW1nwAEB&sclient=img&ei=OJCbYIrLGsLLrgST85Yo&bih=642&biw=1404&safe=off&hl=da\"\n",
    "    full_url_dict[\"Vindruer\"] = \"https://www.google.com/search?q=vindruer&tbm=isch&ved=2ahUKEwjg7vbF28PwAhXEtCoKHZYkA7kQ2-cCegQIABAA&oq=vindruer&gs_lcp=CgNpbWcQAzICCAAyAggAMgIIADICCAAyAggAMgIIADICCAAyAggAMgIIADICCAA6BAgjECc6BQgAELEDOgQIABBDUNGRAViMmQFg75kBaABwAHgBgAH3AYgBxgeSAQUxLjUuMZgBAKABAaoBC2d3cy13aXotaW1nwAEB&sclient=img&ei=cJCbYOD2MsTpqgGWyYzICw&bih=642&biw=1404&safe=off&hl=da\"\n",
    "    full_url_dict[\"Mango\"] = \"https://www.google.com/search?q=mango+fruit&tbm=isch&ved=2ahUKEwiugbTX28PwAhVFuCoKHVfGCkkQ2-cCegQIABAA&oq=mango+fruit&gs_lcp=CgNpbWcQAzICCAAyAggAMgQIABAeMgQIABAeMgQIABAeMgQIABAeMgQIABAeMgQIABAeMgQIABAeMgQIABAeOgQIABBDUPxJWOVbYIVdaABwAHgAgAGLAYgB4QWSAQMwLjaYAQCgAQGqAQtnd3Mtd2l6LWltZ8ABAQ&sclient=img&ei=lZCbYO7iHcXwqgHXjKvIBA&bih=642&biw=1404&safe=off&hl=da\"\n",
    "    \n",
    "    # for hvert element i dictionary skal den finde alle billeder under det link og indsætte det på en liste\n",
    "    for i in full_url_dict:\n",
    "        r = requests.get(full_url_dict[i])\n",
    "        r.raise_for_status()\n",
    "        soup = bs4.BeautifulSoup(r.text, 'html.parser')\n",
    "    \n",
    "        src_list = []\n",
    "        # Her bliver billederne under hver url indsat i src_list\n",
    "        for link in soup.find_all('img'):\n",
    "            src_list.append(link.get('src'))\n",
    "        src_list.pop(0)\n",
    "        \n",
    "        # Her bliver alle elementer indsat i datasættet\n",
    "        for index in range(len(src_list)):\n",
    "            insert_data(i, index, src_list[index])\n",
    "        \n",
    "        # Her resizer vi alle billederne i dictionary\n",
    "        resize_images(i)\n",
    "        if (i==\"Mango\"):\n",
    "            print(\"Dataset created!\")\n",
    "        else:\n",
    "            print(\"Loading...\")\n",
    "    "
   ]
  },
  {
   "cell_type": "code",
   "execution_count": null,
   "metadata": {},
   "outputs": [],
   "source": [
    "create_dataset();     "
   ]
  }
 ],
 "metadata": {
  "kernelspec": {
   "display_name": "Python 3",
   "language": "python",
   "name": "python3"
  },
  "language_info": {
   "codemirror_mode": {
    "name": "ipython",
    "version": 3
   },
   "file_extension": ".py",
   "mimetype": "text/x-python",
   "name": "python",
   "nbconvert_exporter": "python",
   "pygments_lexer": "ipython3",
   "version": "3.7.6"
  }
 },
 "nbformat": 4,
 "nbformat_minor": 4
}
