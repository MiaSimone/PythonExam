{
 "cells": [
  {
   "cell_type": "code",
   "execution_count": 2,
   "metadata": {},
   "outputs": [],
   "source": [
    "from selenium import webdriver\n",
    "from selenium.webdriver.firefox.options import Options\n",
    "import bs4\n",
    "import json\n"
   ]
  },
  {
   "cell_type": "code",
   "execution_count": null,
   "metadata": {},
   "outputs": [],
   "source": [
    "url = \"https://selenium-python.readthedocs.io/locating-elements.html\"\n",
    "\n",
    "options = Options()\n",
    "options.headless = True\n",
    "browser = webdriver.Firefox(options=options)\n",
    "browser.get(url)\n",
    "browser.implicitly_wait(2)\n",
    "heading1 = browser.find_element_by_tag_name('h1')\n",
    "print(heading1.text)\n",
    "test1 = browser.find_element_by_xpath('//*[@id=\"locating-elements\"]/h1')\n",
    "print(test1)"
   ]
  },
  {
   "cell_type": "code",
   "execution_count": 5,
   "metadata": {},
   "outputs": [
    {
     "name": "stdout",
     "output_type": "stream",
     "text": [
      "hello\n",
      "<selenium.webdriver.firefox.webelement.FirefoxWebElement (session=\"81fd0927-fe81-45e0-8bf8-1372477150e6\", element=\"6280fb01-2d99-43ce-84db-89b1d4825319\")>\n",
      "1\n"
     ]
    }
   ],
   "source": [
    "fruit = \"æble\"\n",
    "url = \"https://shop.rema1000.dk/\"\n",
    "\n",
    "def cphbusiness_interaction():\n",
    "    options = Options()\n",
    "    options.headless = True\n",
    "    browser = webdriver.Firefox(options=options)\n",
    "    browser.get(url)\n",
    "    browser.implicitly_wait(2)\n",
    "    button = browser.find_element_by_id('declineButton')\n",
    "    button.click()\n",
    "    \n",
    "    search_field = browser.find_element_by_id('searchinput')\n",
    "    \n",
    "    search_field.send_keys(fruit)\n",
    "    search_field.click()\n",
    "    items = browser.find_elements_by_xpath('/html/body/div[2]/main/div/div/div[3]/div[2]/div[2]/div[1]/div/div/div[1]')\n",
    "    \n",
    "    for item in items:\n",
    "        #item = browser.find_elements_by_class_name('item')\n",
    "        print(item)\n",
    "#         temp = browser.find_element_by_xpath(\"/html/body/div[2]/main/div/div/div[3]/div[2]/div[2]/div[1]/div/div/div[1]/div[1]/a[2]\")\n",
    "#         print(temp.text)\n",
    "# #         info = browser.find_elements_by_class_name('info')\n",
    "# #         print(info.text)\n",
    "#         underline = browser.find_elements_by_class_name('underline')\n",
    "#         print(underline.text)\n",
    "    print(len(items))\n",
    "        \n",
    "cphbusiness_interaction()"
   ]
  }
 ],
 "metadata": {
  "kernelspec": {
   "display_name": "Python 3",
   "language": "python",
   "name": "python3"
  },
  "language_info": {
   "codemirror_mode": {
    "name": "ipython",
    "version": 3
   },
   "file_extension": ".py",
   "mimetype": "text/x-python",
   "name": "python",
   "nbconvert_exporter": "python",
   "pygments_lexer": "ipython3",
   "version": "3.7.6"
  }
 },
 "nbformat": 4,
 "nbformat_minor": 4
}
